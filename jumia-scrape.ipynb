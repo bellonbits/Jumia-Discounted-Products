{
 "cells": [
  {
   "cell_type": "code",
   "execution_count": 3,
   "id": "f5d5da8d-e14e-4be3-89e5-4a7120f596f6",
   "metadata": {},
   "outputs": [
    {
     "name": "stdout",
     "output_type": "stream",
     "text": [
      "Collecting webdriver_manager\n",
      "  Downloading webdriver_manager-4.0.2-py2.py3-none-any.whl.metadata (12 kB)\n",
      "Requirement already satisfied: requests in ./myenv/lib/python3.12/site-packages (from webdriver_manager) (2.32.3)\n",
      "Collecting python-dotenv (from webdriver_manager)\n",
      "  Downloading python_dotenv-1.0.1-py3-none-any.whl.metadata (23 kB)\n",
      "Requirement already satisfied: packaging in ./myenv/lib/python3.12/site-packages (from webdriver_manager) (24.1)\n",
      "Requirement already satisfied: charset-normalizer<4,>=2 in ./myenv/lib/python3.12/site-packages (from requests->webdriver_manager) (3.3.2)\n",
      "Requirement already satisfied: idna<4,>=2.5 in ./myenv/lib/python3.12/site-packages (from requests->webdriver_manager) (3.10)\n",
      "Requirement already satisfied: urllib3<3,>=1.21.1 in ./myenv/lib/python3.12/site-packages (from requests->webdriver_manager) (2.2.3)\n",
      "Requirement already satisfied: certifi>=2017.4.17 in ./myenv/lib/python3.12/site-packages (from requests->webdriver_manager) (2024.8.30)\n",
      "Downloading webdriver_manager-4.0.2-py2.py3-none-any.whl (27 kB)\n",
      "Downloading python_dotenv-1.0.1-py3-none-any.whl (19 kB)\n",
      "Installing collected packages: python-dotenv, webdriver_manager\n",
      "Successfully installed python-dotenv-1.0.1 webdriver_manager-4.0.2\n",
      "Note: you may need to restart the kernel to use updated packages.\n"
     ]
    }
   ],
   "source": [
    "pip install webdriver_manager"
   ]
  },
  {
   "cell_type": "code",
   "execution_count": 5,
   "id": "93ca4d84-54a6-4547-9775-9703f44765d7",
   "metadata": {},
   "outputs": [
    {
     "name": "stdout",
     "output_type": "stream",
     "text": [
      "No more pages to scrape.\n",
      "Scraping completed and data saved to jumia_led_tvs_all_pages.csv\n"
     ]
    }
   ],
   "source": [
    "import time\n",
    "import pandas as pd\n",
    "from selenium import webdriver\n",
    "from selenium.webdriver.common.by import By\n",
    "from selenium.webdriver.chrome.service import Service\n",
    "from webdriver_manager.chrome import ChromeDriverManager\n",
    "from bs4 import BeautifulSoup\n",
    "\n",
    "# Set up the Selenium WebDriver (Chrome in this case)\n",
    "options = webdriver.ChromeOptions()\n",
    "options.add_argument(\"--headless\")  # Run browser in headless mode\n",
    "driver = webdriver.Chrome(service=Service(ChromeDriverManager().install()), options=options)\n",
    "\n",
    "# URL to start with\n",
    "base_url = 'https://www.jumia.co.ke/mlp-led-tvs/'\n",
    "\n",
    "# Create empty lists to store data\n",
    "product_names = []\n",
    "prices = []\n",
    "old_prices = []\n",
    "discounts = []\n",
    "ratings = []\n",
    "reviews = []\n",
    "\n",
    "# Function to extract product data from a single page\n",
    "def extract_data(soup):\n",
    "    # Find all product containers\n",
    "    products = soup.find_all('div', class_='info')\n",
    "\n",
    "    # Loop through each product and extract relevant data\n",
    "    for product in products:\n",
    "        # Extract the product name\n",
    "        name = product.find('h3', class_='name').get_text(strip=True)\n",
    "        product_names.append(name)\n",
    "\n",
    "        # Extract the price\n",
    "        price = product.find('div', class_='prc').get_text(strip=True)\n",
    "        prices.append(price)\n",
    "\n",
    "        # Extract the old price (if available)\n",
    "        old_price = product.find('div', class_='old')\n",
    "        old_prices.append(old_price.get_text(strip=True) if old_price else 'N/A')\n",
    "\n",
    "        # Extract the discount (if available)\n",
    "        discount = product.find('div', class_='bdg _dsct _sm')\n",
    "        discounts.append(discount.get_text(strip=True) if discount else 'N/A')\n",
    "\n",
    "        # Extract the rating and reviews (if available)\n",
    "        rating = product.find('div', class_='stars _s')\n",
    "        if rating:\n",
    "            stars = rating.get_text(strip=True).split(' out of ')[0]\n",
    "            reviews_count = product.find('div', class_='rev').get_text(strip=True)\n",
    "            ratings.append(stars)\n",
    "            reviews.append(reviews_count)\n",
    "        else:\n",
    "            ratings.append('N/A')\n",
    "            reviews.append('N/A')\n",
    "\n",
    "# Start scraping process\n",
    "driver.get(base_url)\n",
    "time.sleep(3)  # Allow page to load\n",
    "\n",
    "while True:\n",
    "    # Get page source and parse it with BeautifulSoup\n",
    "    soup = BeautifulSoup(driver.page_source, 'html.parser')\n",
    "    \n",
    "    # Extract data from the current page\n",
    "    extract_data(soup)\n",
    "\n",
    "    try:\n",
    "        # Find the 'Next' button and click it to go to the next page\n",
    "        next_button = driver.find_element(By.XPATH, '//a[@aria-label=\"Next Page\"]')\n",
    "        next_button.click()\n",
    "        time.sleep(3)  # Wait for the next page to load\n",
    "    except:\n",
    "        # If 'Next' button is not found, we've reached the last page\n",
    "        print(\"No more pages to scrape.\")\n",
    "        break\n",
    "\n",
    "# Close the browser after scraping is done\n",
    "driver.quit()\n",
    "\n",
    "# Create a pandas DataFrame to store the scraped data\n",
    "df = pd.DataFrame({\n",
    "    'Product Name': product_names,\n",
    "    'Price': prices,\n",
    "    'Old Price': old_prices,\n",
    "    'Discount': discounts,\n",
    "    'Rating': ratings,\n",
    "    'Reviews': reviews\n",
    "})\n",
    "\n",
    "# Save the data to a CSV file\n",
    "df.to_csv('jumia_led_tvs_all_pages.csv', index=False)\n",
    "\n",
    "print(\"Scraping completed and data saved to jumia_led_tvs_all_pages.csv\")"
   ]
  },
  {
   "cell_type": "code",
   "execution_count": null,
   "id": "95fa4938-9f0b-4865-a502-cb5a0b6eeca5",
   "metadata": {},
   "outputs": [],
   "source": []
  }
 ],
 "metadata": {
  "kernelspec": {
   "display_name": "Python 3 (ipykernel)",
   "language": "python",
   "name": "python3"
  },
  "language_info": {
   "codemirror_mode": {
    "name": "ipython",
    "version": 3
   },
   "file_extension": ".py",
   "mimetype": "text/x-python",
   "name": "python",
   "nbconvert_exporter": "python",
   "pygments_lexer": "ipython3",
   "version": "3.12.3"
  }
 },
 "nbformat": 4,
 "nbformat_minor": 5
}
